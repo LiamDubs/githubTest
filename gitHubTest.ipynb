{
 "cells": [
  {
   "cell_type": "markdown",
   "metadata": {},
   "source": [
    "Open Apple Store datasets and prepare the lists:"
   ]
  },
  {
   "cell_type": "code",
   "execution_count": 1,
   "metadata": {},
   "outputs": [],
   "source": [
    "from csv import reader\n",
    "opened_file=open('AppleStore.csv', encoding='utf8')\n",
    "read_file=reader(opened_file)\n",
    "ios=list(read_file)\n",
    "ios_header=ios[0]\n",
    "ios=ios[1:]"
   ]
  },
  {
   "cell_type": "markdown",
   "metadata": {},
   "source": [
    "Open GooglePlay datasets and prepare the lists:"
   ]
  },
  {
   "cell_type": "code",
   "execution_count": 2,
   "metadata": {},
   "outputs": [],
   "source": [
    "opened_file=open('Googleplaystore.csv', encoding='utf8')\n",
    "read_file=reader(opened_file)\n",
    "google=list(read_file)\n",
    "google_header=google[0]\n",
    "google=google[1:]"
   ]
  },
  {
   "cell_type": "markdown",
   "metadata": {},
   "source": [
    "Function to rapidly explore a dataset:"
   ]
  },
  {
   "cell_type": "code",
   "execution_count": 3,
   "metadata": {},
   "outputs": [],
   "source": [
    "def explore_data(dataset, start, end, rows_and_columns=False):\n",
    "    dataset_slice = dataset[start:end]    \n",
    "    for row in dataset_slice:\n",
    "        print(row)\n",
    "        print('\\n') # adds a new (empty) line after each row\n",
    "\n",
    "    if rows_and_columns:\n",
    "        print('Number of rows:', len(dataset))\n",
    "        print('Number of columns:', len(dataset[0]))"
   ]
  },
  {
   "cell_type": "markdown",
   "metadata": {},
   "source": [
    "Let's look at Apple dataset header:"
   ]
  },
  {
   "cell_type": "code",
   "execution_count": 4,
   "metadata": {},
   "outputs": [
    {
     "data": {
      "text/plain": [
       "['id',\n",
       " 'track_name',\n",
       " 'size_bytes',\n",
       " 'currency',\n",
       " 'price',\n",
       " 'rating_count_tot',\n",
       " 'rating_count_ver',\n",
       " 'user_rating',\n",
       " 'user_rating_ver',\n",
       " 'ver',\n",
       " 'cont_rating',\n",
       " 'prime_genre',\n",
       " 'sup_devices.num',\n",
       " 'ipadSc_urls.num',\n",
       " 'lang.num',\n",
       " 'vpp_lic']"
      ]
     },
     "execution_count": 4,
     "metadata": {},
     "output_type": "execute_result"
    }
   ],
   "source": [
    "ios_header"
   ]
  },
  {
   "cell_type": "markdown",
   "metadata": {},
   "source": [
    "Let's take a look first five rows of the actual data from IOS dataset:"
   ]
  },
  {
   "cell_type": "code",
   "execution_count": 5,
   "metadata": {},
   "outputs": [
    {
     "name": "stdout",
     "output_type": "stream",
     "text": [
      "['284882215', 'Facebook', '389879808', 'USD', '0.0', '2974676', '212', '3.5', '3.5', '95.0', '4+', 'Social Networking', '37', '1', '29', '1']\n",
      "\n",
      "\n",
      "['389801252', 'Instagram', '113954816', 'USD', '0.0', '2161558', '1289', '4.5', '4.0', '10.23', '12+', 'Photo & Video', '37', '0', '29', '1']\n",
      "\n",
      "\n",
      "['529479190', 'Clash of Clans', '116476928', 'USD', '0.0', '2130805', '579', '4.5', '4.5', '9.24.12', '9+', 'Games', '38', '5', '18', '1']\n",
      "\n",
      "\n",
      "['420009108', 'Temple Run', '65921024', 'USD', '0.0', '1724546', '3842', '4.5', '4.0', '1.6.2', '9+', 'Games', '40', '5', '1', '1']\n",
      "\n",
      "\n",
      "['284035177', 'Pandora - Music & Radio', '130242560', 'USD', '0.0', '1126879', '3594', '4.0', '4.5', '8.4.1', '12+', 'Music', '37', '4', '1', '1']\n",
      "\n",
      "\n",
      "Number of rows: 7197\n",
      "Number of columns: 16\n"
     ]
    }
   ],
   "source": [
    "explore_data(ios,0,5,True)"
   ]
  },
  {
   "cell_type": "markdown",
   "metadata": {},
   "source": [
    "Let's do the same for Google dataset:"
   ]
  },
  {
   "cell_type": "code",
   "execution_count": 6,
   "metadata": {},
   "outputs": [
    {
     "data": {
      "text/plain": [
       "['App',\n",
       " 'Category',\n",
       " 'Rating',\n",
       " 'Reviews',\n",
       " 'Size',\n",
       " 'Installs',\n",
       " 'Type',\n",
       " 'Price',\n",
       " 'Content Rating',\n",
       " 'Genres',\n",
       " 'Last Updated',\n",
       " 'Current Ver',\n",
       " 'Android Ver']"
      ]
     },
     "execution_count": 6,
     "metadata": {},
     "output_type": "execute_result"
    }
   ],
   "source": [
    "google_header"
   ]
  },
  {
   "cell_type": "code",
   "execution_count": 7,
   "metadata": {},
   "outputs": [
    {
     "name": "stdout",
     "output_type": "stream",
     "text": [
      "['Photo Editor & Candy Camera & Grid & ScrapBook', 'ART_AND_DESIGN', '4.1', '159', '19M', '10,000+', 'Free', '0', 'Everyone', 'Art & Design', 'January 7, 2018', '1.0.0', '4.0.3 and up']\n",
      "\n",
      "\n",
      "['Coloring book moana', 'ART_AND_DESIGN', '3.9', '967', '14M', '500,000+', 'Free', '0', 'Everyone', 'Art & Design;Pretend Play', 'January 15, 2018', '2.0.0', '4.0.3 and up']\n",
      "\n",
      "\n",
      "['U Launcher Lite – FREE Live Cool Themes, Hide Apps', 'ART_AND_DESIGN', '4.7', '87510', '8.7M', '5,000,000+', 'Free', '0', 'Everyone', 'Art & Design', 'August 1, 2018', '1.2.4', '4.0.3 and up']\n",
      "\n",
      "\n",
      "['Sketch - Draw & Paint', 'ART_AND_DESIGN', '4.5', '215644', '25M', '50,000,000+', 'Free', '0', 'Teen', 'Art & Design', 'June 8, 2018', 'Varies with device', '4.2 and up']\n",
      "\n",
      "\n",
      "['Pixel Draw - Number Art Coloring Book', 'ART_AND_DESIGN', '4.3', '967', '2.8M', '100,000+', 'Free', '0', 'Everyone', 'Art & Design;Creativity', 'June 20, 2018', '1.1', '4.4 and up']\n",
      "\n",
      "\n",
      "Number of rows: 10841\n",
      "Number of columns: 13\n"
     ]
    }
   ],
   "source": [
    "explore_data(google,0,5,True)"
   ]
  },
  {
   "cell_type": "markdown",
   "metadata": {},
   "source": [
    "We now know that Apple dataset contains:\n",
    "Number of rows: 7197\n",
    "Number of columns: 16\n",
    "\n",
    "While GooglePlay dataset contains:\n",
    "Number of rows: 10841\n",
    "Number of columns: 13"
   ]
  },
  {
   "cell_type": "markdown",
   "metadata": {},
   "source": [
    "We can now loop through each dataset to determine if there are any empty columns:"
   ]
  },
  {
   "cell_type": "code",
   "execution_count": 8,
   "metadata": {},
   "outputs": [
    {
     "name": "stdout",
     "output_type": "stream",
     "text": [
      "['Life Made WI-Fi Touchscreen Photo Frame', '1.9', '19', '3.0M', '1,000+', 'Free', '0', 'Everyone', '', 'February 11, 2018', '1.0.19', '4.0 and up']\n",
      "10472\n"
     ]
    }
   ],
   "source": [
    "ios_hl=len(ios_header)\n",
    "google_hl=len(google_header)\n",
    "\n",
    "for row in ios:\n",
    "    ios_rl=len(row)\n",
    "    if ios_rl != ios_hl:\n",
    "        print(row)\n",
    "        print(ios.index(row))\n",
    "        \n",
    "for row in google:\n",
    "    google_rl=len(row)\n",
    "    if google_rl != google_hl:\n",
    "        print(row) \n",
    "        print(google.index(row))"
   ]
  },
  {
   "cell_type": "markdown",
   "metadata": {},
   "source": [
    "We can see that google data set has a row with a missing column with index 10472.\n",
    "We can either remove this record or search for a missing value. "
   ]
  },
  {
   "cell_type": "code",
   "execution_count": 9,
   "metadata": {},
   "outputs": [],
   "source": [
    "del google[10472]"
   ]
  },
  {
   "cell_type": "markdown",
   "metadata": {},
   "source": [
    "Let's verify that the record is deleted:"
   ]
  },
  {
   "cell_type": "code",
   "execution_count": 10,
   "metadata": {},
   "outputs": [],
   "source": [
    "for row in google:\n",
    "    google_rl=len(row)\n",
    "    if google_rl != google_hl:\n",
    "        print(row) \n",
    "        print(google.index(row))"
   ]
  },
  {
   "cell_type": "markdown",
   "metadata": {},
   "source": [
    "Let's look for duplicates in each dataset:"
   ]
  },
  {
   "cell_type": "markdown",
   "metadata": {},
   "source": [
    "Now let's write a function that will check for duplicates in an assinged database:"
   ]
  },
  {
   "cell_type": "code",
   "execution_count": 11,
   "metadata": {
    "scrolled": true
   },
   "outputs": [
    {
     "name": "stdout",
     "output_type": "stream",
     "text": [
      "Number of unique apps is 9659\n",
      "Number of duplicate apps is 1181\n",
      "1181\n"
     ]
    }
   ],
   "source": [
    "def check_unique(dataset, location):\n",
    "    unique=[]\n",
    "    dupl=[]\n",
    "    count=0\n",
    "    app_index=0\n",
    "    for row in dataset:\n",
    "        app_name=row[location]\n",
    "        \n",
    "        if app_name in unique:        \n",
    "            dupl.append(app_name)\n",
    "#             app_index=dataset.index(row)\n",
    "#             del dataset[app_index]\n",
    "            count+=1\n",
    "            \n",
    "        else:\n",
    "            unique.append(app_name)\n",
    "            \n",
    "    print('Number of unique apps is ' + str(len(unique)))\n",
    "    print('Number of duplicate apps is ' + str(len(dupl)))\n",
    "    print(count)\n",
    "    return(dupl)\n",
    "\n",
    "google_duplicated=check_unique(google,0)\n",
    "        \n"
   ]
  },
  {
   "cell_type": "code",
   "execution_count": 12,
   "metadata": {},
   "outputs": [
    {
     "name": "stdout",
     "output_type": "stream",
     "text": [
      "['Quick PDF Scanner + OCR FREE', 'Box', 'Google My Business', 'ZOOM Cloud Meetings', 'join.me - Simple Meetings']\n"
     ]
    }
   ],
   "source": [
    "print(google_duplicated[0:5])"
   ]
  },
  {
   "cell_type": "code",
   "execution_count": 13,
   "metadata": {},
   "outputs": [
    {
     "name": "stdout",
     "output_type": "stream",
     "text": [
      "Number of unique apps is 7197\n",
      "Number of duplicate apps is 0\n",
      "0\n"
     ]
    }
   ],
   "source": [
    "apple_dupl=check_unique(ios,0)"
   ]
  },
  {
   "cell_type": "markdown",
   "metadata": {},
   "source": [
    "Let's find a way to remove all duplicates in the Google Play dataset. To do this, we could modify our ``` check_unique``` function:"
   ]
  },
  {
   "cell_type": "code",
   "execution_count": 14,
   "metadata": {},
   "outputs": [],
   "source": [
    "def check_unique_delete(dataset, location):\n",
    "    unique=[]\n",
    "    dupl=[]\n",
    "    count=0\n",
    "    app_index=0\n",
    "    for row in dataset:\n",
    "        app_name=row[location]\n",
    "        \n",
    "        if app_name in unique:        \n",
    "            dupl.append(app_name)\n",
    "            app_index=dataset.index(row)\n",
    "            del dataset[app_index]\n",
    "            count+=1\n",
    "            \n",
    "        else:\n",
    "            unique.append(app_name)\n",
    "            \n",
    "    print('Number of unique apps is ' + str(len(unique)))\n",
    "    print('Number of duplicate apps is ' + str(len(dupl)))\n",
    "    print(count)\n",
    "#     return(dupl)"
   ]
  },
  {
   "cell_type": "code",
   "execution_count": 15,
   "metadata": {},
   "outputs": [
    {
     "name": "stdout",
     "output_type": "stream",
     "text": [
      "['ZOOM Cloud Meetings', 'BUSINESS', '4.4', '31614', '37M', '10,000,000+', 'Free', '0', 'Everyone', 'Business', 'July 20, 2018', '4.1.28165.0716', '4.0 and up']\n",
      "['ZOOM Cloud Meetings', 'BUSINESS', '4.4', '31614', '37M', '10,000,000+', 'Free', '0', 'Everyone', 'Business', 'July 20, 2018', '4.1.28165.0716', '4.0 and up']\n"
     ]
    }
   ],
   "source": [
    "for app in google:\n",
    "    name = app[0]\n",
    "    if name == 'ZOOM Cloud Meetings':\n",
    "        print(app)"
   ]
  },
  {
   "cell_type": "markdown",
   "metadata": {},
   "source": [
    "Let's identify all unique apps with highest amount of ratings(column 4)\n",
    "1. Apps that are dublicates will be compared by their column 4\n",
    "2. Only the apps with highest amount of ratings will be retained and placed in ```review_max``` dictionary"
   ]
  },
  {
   "cell_type": "code",
   "execution_count": 16,
   "metadata": {},
   "outputs": [],
   "source": [
    "review_max={}\n",
    "\n",
    "for app in google:\n",
    "    name = app[0]\n",
    "    n_reviews=float(app[3])\n",
    "    \n",
    "    if name in review_max and review_max[name] < n_reviews:\n",
    "        review_max[name] = n_reviews\n",
    "        \n",
    "    elif name not in review_max:\n",
    "        review_max[name] = n_reviews\n",
    "        "
   ]
  },
  {
   "cell_type": "code",
   "execution_count": 17,
   "metadata": {},
   "outputs": [
    {
     "name": "stdout",
     "output_type": "stream",
     "text": [
      "9659\n"
     ]
    }
   ],
   "source": [
    "print(len(review_max))"
   ]
  },
  {
   "cell_type": "markdown",
   "metadata": {},
   "source": [
    "We now need to remove all duplicates with ratings not greater than those in ```review_max``` dictionary.\n",
    "\n",
    "To do this, we'll first create two empty lists `google_clean` which will hold google dataset with only unique entries, and ```already_added``` to test if we already added an app to ```google_clean```. If an app is already added to ```google_clean```, we'll skip the current iteration of the for loop. \n",
    "\n",
    "This way we will loop through entire dataset while matching it to the unique app names in our dictionary. "
   ]
  },
  {
   "cell_type": "code",
   "execution_count": 18,
   "metadata": {},
   "outputs": [],
   "source": [
    "google_clean=[]\n",
    "already_added=[]\n",
    "\n",
    "for app in google:\n",
    "    name=app[0]\n",
    "    n_reviews=float(app[3])\n",
    "    \n",
    "    if (review_max[name] == n_reviews) and (name not in already_added):\n",
    "        google_clean.append(app)\n",
    "        already_added.append(name)\n",
    "        "
   ]
  },
  {
   "cell_type": "code",
   "execution_count": 19,
   "metadata": {
    "scrolled": true
   },
   "outputs": [
    {
     "data": {
      "text/plain": [
       "['Photo Editor & Candy Camera & Grid & ScrapBook',\n",
       " 'ART_AND_DESIGN',\n",
       " '4.1',\n",
       " '159',\n",
       " '19M',\n",
       " '10,000+',\n",
       " 'Free',\n",
       " '0',\n",
       " 'Everyone',\n",
       " 'Art & Design',\n",
       " 'January 7, 2018',\n",
       " '1.0.0',\n",
       " '4.0.3 and up']"
      ]
     },
     "execution_count": 19,
     "metadata": {},
     "output_type": "execute_result"
    }
   ],
   "source": [
    "google_clean[0]"
   ]
  },
  {
   "cell_type": "code",
   "execution_count": 20,
   "metadata": {},
   "outputs": [
    {
     "name": "stdout",
     "output_type": "stream",
     "text": [
      "['id', 'track_name', 'size_bytes', 'currency', 'price', 'rating_count_tot', 'rating_count_ver', 'user_rating', 'user_rating_ver', 'ver', 'cont_rating', 'prime_genre', 'sup_devices.num', 'ipadSc_urls.num', 'lang.num', 'vpp_lic']\n",
      "\n",
      "\n",
      "['284882215', 'Facebook', '389879808', 'USD', '0.0', '2974676', '212', '3.5', '3.5', '95.0', '4+', 'Social Networking', '37', '1', '29', '1']\n"
     ]
    }
   ],
   "source": [
    "print(ios_header)\n",
    "print('\\n')\n",
    "print(ios[0])"
   ]
  },
  {
   "cell_type": "code",
   "execution_count": 21,
   "metadata": {},
   "outputs": [
    {
     "name": "stdout",
     "output_type": "stream",
     "text": [
      "7195\n"
     ]
    }
   ],
   "source": [
    "review_max={}\n",
    "\n",
    "for app in ios:\n",
    "    name = app[1]\n",
    "    n_reviews=float(app[5])\n",
    "    \n",
    "    if name in review_max and review_max[name] < n_reviews:\n",
    "        review_max[name] = n_reviews\n",
    "        \n",
    "    elif name not in review_max:\n",
    "        review_max[name] = n_reviews\n",
    "        \n",
    "print(len(review_max))"
   ]
  },
  {
   "cell_type": "code",
   "execution_count": 22,
   "metadata": {},
   "outputs": [],
   "source": [
    "ios_clean=[]\n",
    "already_added=[]\n",
    "\n",
    "for app in ios:\n",
    "    name=app[1]\n",
    "    n_reviews=float(app[5])\n",
    "    \n",
    "    if (review_max[name] == n_reviews) and (name not in already_added):\n",
    "        ios_clean.append(app)\n",
    "        already_added.append(name)"
   ]
  },
  {
   "cell_type": "code",
   "execution_count": 23,
   "metadata": {},
   "outputs": [
    {
     "name": "stdout",
     "output_type": "stream",
     "text": [
      "7195\n",
      "[['284882215', 'Facebook', '389879808', 'USD', '0.0', '2974676', '212', '3.5', '3.5', '95.0', '4+', 'Social Networking', '37', '1', '29', '1'], ['389801252', 'Instagram', '113954816', 'USD', '0.0', '2161558', '1289', '4.5', '4.0', '10.23', '12+', 'Photo & Video', '37', '0', '29', '1']]\n"
     ]
    }
   ],
   "source": [
    "print(len(ios_clean))\n",
    "print(ios_clean[0:2])"
   ]
  },
  {
   "cell_type": "markdown",
   "metadata": {},
   "source": [
    "***So far we have success!!!***"
   ]
  },
  {
   "cell_type": "markdown",
   "metadata": {},
   "source": [
    "Now let's scan the datasets to make sure we are only capturing english apps(those apps whose name is not written in English will be deleted). \n",
    "\n",
    "Let's create a function that check for characters that have ASCII values of greater than 127\n",
    "Those less than or equal to 127 are part of English"
   ]
  },
  {
   "cell_type": "code",
   "execution_count": 24,
   "metadata": {},
   "outputs": [],
   "source": [
    "def en_check(string):\n",
    "    non_ASCII=0\n",
    "    for each in string:\n",
    "        char=ord(each)\n",
    "        if char > 127:\n",
    "            non_ASCII+=1\n",
    "            \n",
    "    if non_ASCII>2:\n",
    "        return False\n",
    "    else:\n",
    "        return True\n",
    "            "
   ]
  },
  {
   "cell_type": "markdown",
   "metadata": {},
   "source": [
    "Now we can apply this function to IOS and GOOGLE datasets. This will isolate english apps from all the others. "
   ]
  },
  {
   "cell_type": "code",
   "execution_count": 25,
   "metadata": {},
   "outputs": [],
   "source": [
    "google_foreign=[]\n",
    "google_english=[]\n",
    "\n",
    "for row in google_clean:\n",
    "    name=row[0]\n",
    "    if en_check(name) == True:\n",
    "        google_english.append(row)\n",
    "    else:\n",
    "        google_foreign.append(row)\n",
    "        \n",
    "ios_foreign=[]\n",
    "ios_english=[]\n",
    "\n",
    "for row in ios_clean:\n",
    "    name=row[1]\n",
    "    if en_check(name) == True:\n",
    "        ios_english.append(row)\n",
    "    else:\n",
    "        ios_foreign.append(row)"
   ]
  },
  {
   "cell_type": "code",
   "execution_count": 26,
   "metadata": {},
   "outputs": [
    {
     "name": "stdout",
     "output_type": "stream",
     "text": [
      "Number of English apps in Google App is 9597\n",
      "\n",
      "\n",
      "Number of Foreign apps in Google App is 62\n"
     ]
    }
   ],
   "source": [
    "print('Number of English apps in Google App is ' + str(len(google_english)))\n",
    "print('\\n')\n",
    "print('Number of Foreign apps in Google App is ' + str(len(google_foreign)))"
   ]
  },
  {
   "cell_type": "markdown",
   "metadata": {},
   "source": [
    "Repeat above steps for IOS apps:\n"
   ]
  },
  {
   "cell_type": "code",
   "execution_count": 27,
   "metadata": {
    "scrolled": true
   },
   "outputs": [
    {
     "name": "stdout",
     "output_type": "stream",
     "text": [
      "Number of English apps in IOS App is 6153\n",
      "\n",
      "\n",
      "Number of Foreign apps in IOS App is 1042\n"
     ]
    }
   ],
   "source": [
    "print('Number of English apps in IOS App is ' + str(len(ios_english)))\n",
    "print('\\n')\n",
    "print('Number of Foreign apps in IOS App is ' + str(len(ios_foreign)))"
   ]
  },
  {
   "cell_type": "markdown",
   "metadata": {},
   "source": [
    "Let's find and isolate all free apps from non-free apps. \n",
    "First, we want to determine which column represents price of the app. "
   ]
  },
  {
   "cell_type": "code",
   "execution_count": 28,
   "metadata": {
    "scrolled": true
   },
   "outputs": [
    {
     "name": "stdout",
     "output_type": "stream",
     "text": [
      "['id', 'track_name', 'size_bytes', 'currency', 'price', 'rating_count_tot', 'rating_count_ver', 'user_rating', 'user_rating_ver', 'ver', 'cont_rating', 'prime_genre', 'sup_devices.num', 'ipadSc_urls.num', 'lang.num', 'vpp_lic']\n",
      "\n",
      "\n",
      "['App', 'Category', 'Rating', 'Reviews', 'Size', 'Installs', 'Type', 'Price', 'Content Rating', 'Genres', 'Last Updated', 'Current Ver', 'Android Ver']\n",
      "\n",
      "\n",
      "['429047995', 'Pinterest', '74778624', 'USD', '0.0', '1061624', '1814', '4.5', '4.0', '6.26', '12+', 'Social Networking', '37', '5', '27', '1']\n",
      "\n",
      "\n",
      "['Smoke Effect Photo Maker - Smoke Editor', 'ART_AND_DESIGN', '3.8', '178', '19M', '50,000+', 'Free', '0', 'Everyone', 'Art & Design', 'April 26, 2018', '1.1', '4.0.3 and up']\n"
     ]
    }
   ],
   "source": [
    "print(ios_header)\n",
    "print('\\n')\n",
    "print(google_header)\n",
    "print('\\n')\n",
    "print(ios_english[5])\n",
    "print('\\n')\n",
    "print(google_english[5])"
   ]
  },
  {
   "cell_type": "markdown",
   "metadata": {},
   "source": [
    "As we can see, for ios dataset, price is in the 5th columns while Google app price is in 8th column."
   ]
  },
  {
   "cell_type": "markdown",
   "metadata": {},
   "source": [
    "Let's create a function that will loop through a given data set at a given index. The function will isolate free apps into a separate list that will return back at end of the function:"
   ]
  },
  {
   "cell_type": "code",
   "execution_count": 29,
   "metadata": {},
   "outputs": [],
   "source": [
    "def free_apps(dataset,index):\n",
    "    free_apps=[]\n",
    "    for row in dataset:\n",
    "        app_price=row[index]\n",
    "        if app_price == '0' or app_price == '0.0':\n",
    "            free_apps.append(row)\n",
    "    return free_apps"
   ]
  },
  {
   "cell_type": "code",
   "execution_count": 30,
   "metadata": {},
   "outputs": [],
   "source": [
    "ios_free=free_apps(ios_english, 4)"
   ]
  },
  {
   "cell_type": "code",
   "execution_count": 31,
   "metadata": {},
   "outputs": [],
   "source": [
    "google_free=free_apps(google_english, 7)"
   ]
  },
  {
   "cell_type": "code",
   "execution_count": 32,
   "metadata": {},
   "outputs": [
    {
     "name": "stdout",
     "output_type": "stream",
     "text": [
      "8848\n",
      "3201\n"
     ]
    }
   ],
   "source": [
    "print(len(google_free))\n",
    "print(len(ios_free))"
   ]
  },
  {
   "cell_type": "markdown",
   "metadata": {},
   "source": [
    "Let's explore few of the isolated free apps from IOS and Google"
   ]
  },
  {
   "cell_type": "code",
   "execution_count": 33,
   "metadata": {},
   "outputs": [
    {
     "name": "stdout",
     "output_type": "stream",
     "text": [
      "[['Photo Editor & Candy Camera & Grid & ScrapBook', 'ART_AND_DESIGN', '4.1', '159', '19M', '10,000+', 'Free', '0', 'Everyone', 'Art & Design', 'January 7, 2018', '1.0.0', '4.0.3 and up'], ['U Launcher Lite – FREE Live Cool Themes, Hide Apps', 'ART_AND_DESIGN', '4.7', '87510', '8.7M', '5,000,000+', 'Free', '0', 'Everyone', 'Art & Design', 'August 1, 2018', '1.2.4', '4.0.3 and up'], ['Sketch - Draw & Paint', 'ART_AND_DESIGN', '4.5', '215644', '25M', '50,000,000+', 'Free', '0', 'Teen', 'Art & Design', 'June 8, 2018', 'Varies with device', '4.2 and up']]\n",
      "[['284882215', 'Facebook', '389879808', 'USD', '0.0', '2974676', '212', '3.5', '3.5', '95.0', '4+', 'Social Networking', '37', '1', '29', '1'], ['389801252', 'Instagram', '113954816', 'USD', '0.0', '2161558', '1289', '4.5', '4.0', '10.23', '12+', 'Photo & Video', '37', '0', '29', '1'], ['529479190', 'Clash of Clans', '116476928', 'USD', '0.0', '2130805', '579', '4.5', '4.5', '9.24.12', '9+', 'Games', '38', '5', '18', '1']]\n"
     ]
    }
   ],
   "source": [
    "print(google_free[0:3])\n",
    "print(ios_free[0:3])"
   ]
  },
  {
   "cell_type": "markdown",
   "metadata": {},
   "source": [
    "For our analysis, we would like to focus on apps that are both in Google Play dataset and Apple IOS. Our strategy is to first implement a bare-bone app on Android platform. If the app gains popularity, we can then launch a version on Apple Store. This is why we would like to look at which categories of apps are most popular and are on both platforms. \n",
    "\n",
    "First, let's focus on IOS devices. Let's build a dictionary that will show us a distribution of app categories vs rating. "
   ]
  },
  {
   "cell_type": "code",
   "execution_count": 34,
   "metadata": {},
   "outputs": [
    {
     "name": "stdout",
     "output_type": "stream",
     "text": [
      "['id', 'track_name', 'size_bytes', 'currency', 'price', 'rating_count_tot', 'rating_count_ver', 'user_rating', 'user_rating_ver', 'ver', 'cont_rating', 'prime_genre', 'sup_devices.num', 'ipadSc_urls.num', 'lang.num', 'vpp_lic']\n",
      "['284882215', 'Facebook', '389879808', 'USD', '0.0', '2974676', '212', '3.5', '3.5', '95.0', '4+', 'Social Networking', '37', '1', '29', '1']\n",
      "\n",
      "\n",
      "['389801252', 'Instagram', '113954816', 'USD', '0.0', '2161558', '1289', '4.5', '4.0', '10.23', '12+', 'Photo & Video', '37', '0', '29', '1']\n",
      "\n",
      "\n",
      "['529479190', 'Clash of Clans', '116476928', 'USD', '0.0', '2130805', '579', '4.5', '4.5', '9.24.12', '9+', 'Games', '38', '5', '18', '1']\n",
      "\n",
      "\n",
      "['420009108', 'Temple Run', '65921024', 'USD', '0.0', '1724546', '3842', '4.5', '4.0', '1.6.2', '9+', 'Games', '40', '5', '1', '1']\n",
      "\n",
      "\n",
      "['284035177', 'Pandora - Music & Radio', '130242560', 'USD', '0.0', '1126879', '3594', '4.0', '4.5', '8.4.1', '12+', 'Music', '37', '4', '1', '1']\n",
      "\n",
      "\n",
      "Number of rows: 3201\n",
      "Number of columns: 16\n"
     ]
    }
   ],
   "source": [
    "print(ios_header)\n",
    "explore_data(ios_free, 0, 5, True)"
   ]
  },
  {
   "cell_type": "code",
   "execution_count": 35,
   "metadata": {},
   "outputs": [],
   "source": [
    "ios_genre={}\n",
    "ios_length=len(ios_english)\n",
    "\n",
    "for row in ios_english:\n",
    "    genre=row[11]\n",
    "    \n",
    "    if genre in ios_genre:\n",
    "        ios_genre[genre]+=1\n",
    "    else:\n",
    "        ios_genre[genre]=1\n",
    "\n",
    "ios_ratings_percentages={}\n",
    "ios_ratings_proportions={}\n",
    "\n",
    "for key in ios_genre:\n",
    "    proportion=ios_genre[key]/ios_length\n",
    "    percentage=proportion*100\n",
    "    ios_ratings_proportions[key]=round(proportion,2)\n",
    "    ios_ratings_percentages[key]=round(percentage,2)\n",
    "    "
   ]
  },
  {
   "cell_type": "code",
   "execution_count": 40,
   "metadata": {},
   "outputs": [
    {
     "name": "stdout",
     "output_type": "stream",
     "text": [
      "{'Social Networking': 126, 'Photo & Video': 341, 'Games': 3378, 'Music': 137, 'Reference': 51, 'Health & Fitness': 164, 'Weather': 69, 'Utilities': 211, 'Travel': 59, 'Shopping': 84, 'News': 56, 'Navigation': 28, 'Lifestyle': 98, 'Entertainment': 446, 'Food & Drink': 44, 'Sports': 104, 'Book': 53, 'Finance': 48, 'Education': 409, 'Productivity': 168, 'Business': 53, 'Catalogs': 5, 'Medical': 21}\n",
      "\n",
      "\n",
      "['Book', 'Business', 'Catalogs', 'Education', 'Entertainment', 'Finance', 'Food & Drink', 'Games', 'Health & Fitness', 'Lifestyle', 'Medical', 'Music', 'Navigation', 'News', 'Photo & Video', 'Productivity', 'Reference', 'Shopping', 'Social Networking', 'Sports', 'Travel', 'Utilities', 'Weather']\n"
     ]
    }
   ],
   "source": [
    "print(ios_genre)\n",
    "print('\\n')\n",
    "print(sorted(ios_ratings_percentages))\n",
    "print('\\n')\n",
    "print(ios_ratings_proportions)\n",
    "    "
   ]
  },
  {
   "cell_type": "markdown",
   "metadata": {},
   "source": [
    "So what we are seing is that Games have the highest frequency - 54.9%. Let's do the same for Android apps:"
   ]
  },
  {
   "cell_type": "code",
   "execution_count": 37,
   "metadata": {},
   "outputs": [
    {
     "name": "stdout",
     "output_type": "stream",
     "text": [
      "['App', 'Category', 'Rating', 'Reviews', 'Size', 'Installs', 'Type', 'Price', 'Content Rating', 'Genres', 'Last Updated', 'Current Ver', 'Android Ver']\n",
      "['Photo Editor & Candy Camera & Grid & ScrapBook', 'ART_AND_DESIGN', '4.1', '159', '19M', '10,000+', 'Free', '0', 'Everyone', 'Art & Design', 'January 7, 2018', '1.0.0', '4.0.3 and up']\n",
      "\n",
      "\n",
      "['U Launcher Lite – FREE Live Cool Themes, Hide Apps', 'ART_AND_DESIGN', '4.7', '87510', '8.7M', '5,000,000+', 'Free', '0', 'Everyone', 'Art & Design', 'August 1, 2018', '1.2.4', '4.0.3 and up']\n",
      "\n",
      "\n",
      "['Sketch - Draw & Paint', 'ART_AND_DESIGN', '4.5', '215644', '25M', '50,000,000+', 'Free', '0', 'Teen', 'Art & Design', 'June 8, 2018', 'Varies with device', '4.2 and up']\n",
      "\n",
      "\n",
      "Number of rows: 8848\n",
      "Number of columns: 13\n"
     ]
    }
   ],
   "source": [
    "print(google_header)\n",
    "explore_data(google_free, 0, 3, True)"
   ]
  },
  {
   "cell_type": "code",
   "execution_count": 38,
   "metadata": {},
   "outputs": [],
   "source": [
    "google_genre={}\n",
    "google_length=len(google_english)\n",
    "\n",
    "for row in google_english:\n",
    "    genre=row[1]\n",
    "    \n",
    "    if genre in google_genre:\n",
    "        google_genre[genre]+=1\n",
    "    else:\n",
    "        google_genre[genre]=1\n",
    "\n",
    "google_ratings_percentages={}\n",
    "google_ratings_proportions={}\n",
    "\n",
    "for key in google_genre:\n",
    "    proportion=google_genre[key]/google_length\n",
    "    percentage=proportion*100\n",
    "    google_ratings_proportions[key]=round(proportion,2)\n",
    "    google_ratings_percentages[key]=round(percentage,2)"
   ]
  },
  {
   "cell_type": "code",
   "execution_count": 39,
   "metadata": {},
   "outputs": [
    {
     "name": "stdout",
     "output_type": "stream",
     "text": [
      "{'ART_AND_DESIGN': 60, 'AUTO_AND_VEHICLES': 84, 'BEAUTY': 53, 'BOOKS_AND_REFERENCE': 217, 'BUSINESS': 419, 'COMICS': 54, 'COMMUNICATION': 313, 'DATING': 170, 'EDUCATION': 106, 'ENTERTAINMENT': 87, 'EVENTS': 64, 'FINANCE': 345, 'FOOD_AND_DRINK': 112, 'HEALTH_AND_FITNESS': 288, 'HOUSE_AND_HOME': 71, 'LIBRARIES_AND_DEMO': 84, 'LIFESTYLE': 362, 'GAME': 940, 'FAMILY': 1858, 'MEDICAL': 395, 'SOCIAL': 239, 'SHOPPING': 201, 'PHOTOGRAPHY': 280, 'SPORTS': 324, 'TRAVEL_AND_LOCAL': 219, 'TOOLS': 826, 'PERSONALIZATION': 375, 'PRODUCTIVITY': 373, 'PARENTING': 60, 'WEATHER': 78, 'VIDEO_PLAYERS': 163, 'NEWS_AND_MAGAZINES': 249, 'MAPS_AND_NAVIGATION': 128}\n",
      "\n",
      "\n",
      "{'ART_AND_DESIGN': 0.63, 'AUTO_AND_VEHICLES': 0.88, 'BEAUTY': 0.55, 'BOOKS_AND_REFERENCE': 2.26, 'BUSINESS': 4.37, 'COMICS': 0.56, 'COMMUNICATION': 3.26, 'DATING': 1.77, 'EDUCATION': 1.1, 'ENTERTAINMENT': 0.91, 'EVENTS': 0.67, 'FINANCE': 3.59, 'FOOD_AND_DRINK': 1.17, 'HEALTH_AND_FITNESS': 3.0, 'HOUSE_AND_HOME': 0.74, 'LIBRARIES_AND_DEMO': 0.88, 'LIFESTYLE': 3.77, 'GAME': 9.79, 'FAMILY': 19.36, 'MEDICAL': 4.12, 'SOCIAL': 2.49, 'SHOPPING': 2.09, 'PHOTOGRAPHY': 2.92, 'SPORTS': 3.38, 'TRAVEL_AND_LOCAL': 2.28, 'TOOLS': 8.61, 'PERSONALIZATION': 3.91, 'PRODUCTIVITY': 3.89, 'PARENTING': 0.63, 'WEATHER': 0.81, 'VIDEO_PLAYERS': 1.7, 'NEWS_AND_MAGAZINES': 2.59, 'MAPS_AND_NAVIGATION': 1.33}\n",
      "\n",
      "\n",
      "{'ART_AND_DESIGN': 0.01, 'AUTO_AND_VEHICLES': 0.01, 'BEAUTY': 0.01, 'BOOKS_AND_REFERENCE': 0.02, 'BUSINESS': 0.04, 'COMICS': 0.01, 'COMMUNICATION': 0.03, 'DATING': 0.02, 'EDUCATION': 0.01, 'ENTERTAINMENT': 0.01, 'EVENTS': 0.01, 'FINANCE': 0.04, 'FOOD_AND_DRINK': 0.01, 'HEALTH_AND_FITNESS': 0.03, 'HOUSE_AND_HOME': 0.01, 'LIBRARIES_AND_DEMO': 0.01, 'LIFESTYLE': 0.04, 'GAME': 0.1, 'FAMILY': 0.19, 'MEDICAL': 0.04, 'SOCIAL': 0.02, 'SHOPPING': 0.02, 'PHOTOGRAPHY': 0.03, 'SPORTS': 0.03, 'TRAVEL_AND_LOCAL': 0.02, 'TOOLS': 0.09, 'PERSONALIZATION': 0.04, 'PRODUCTIVITY': 0.04, 'PARENTING': 0.01, 'WEATHER': 0.01, 'VIDEO_PLAYERS': 0.02, 'NEWS_AND_MAGAZINES': 0.03, 'MAPS_AND_NAVIGATION': 0.01}\n"
     ]
    }
   ],
   "source": [
    "print(google_genre)\n",
    "print('\\n')\n",
    "print(google_ratings_percentages)\n",
    "print('\\n')\n",
    "print(google_ratings_proportions)"
   ]
  },
  {
   "cell_type": "markdown",
   "metadata": {},
   "source": [
    "Interesting to note that on Android platform, Games are only 9.79% while Family is at 19.36%"
   ]
  },
  {
   "cell_type": "code",
   "execution_count": null,
   "metadata": {},
   "outputs": [],
   "source": []
  }
 ],
 "metadata": {
  "kernelspec": {
   "display_name": "Python 3",
   "language": "python",
   "name": "python3"
  },
  "language_info": {
   "codemirror_mode": {
    "name": "ipython",
    "version": 3
   },
   "file_extension": ".py",
   "mimetype": "text/x-python",
   "name": "python",
   "nbconvert_exporter": "python",
   "pygments_lexer": "ipython3",
   "version": "3.8.3"
  }
 },
 "nbformat": 4,
 "nbformat_minor": 4
}
